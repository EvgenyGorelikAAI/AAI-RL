{
 "cells": [
  {
   "attachments": {},
   "cell_type": "markdown",
   "metadata": {},
   "source": [
    "# Traffic Pipeline from RL\n",
    "\n",
    "Repository for RL\n",
    "\n",
    "https://github.com/automotive-ai/aai.traffic/tree/development/aai_rl"
   ]
  },
  {
   "attachments": {},
   "cell_type": "markdown",
   "metadata": {},
   "source": [
    "A simplified RL schematic:"
   ]
  },
  {
   "cell_type": "code",
   "execution_count": null,
   "metadata": {},
   "outputs": [],
   "source": [
    "import gymnasium as gym\n",
    "env = gym.make(\"highway-v0\")\n",
    "\n",
    "class Actor():\n",
    "    pass\n",
    "\n",
    "class Critic():\n",
    "    pass\n",
    "\n",
    "class ActorCritic():\n",
    "    pass\n",
    "\n",
    "class ActorCriticAgent():\n",
    "    pass\n",
    "\n",
    "class ReplayBuffer():\n",
    "    pass\n",
    "\n",
    "class Trainer():\n",
    "    pass\n",
    "\n",
    "\n",
    "actor = Actor(...)\n",
    "critic = Critic(...)\n",
    "\n",
    "actor_critic = ActorCritic(actor, critic, ...)\n",
    "actor_critic.action_sampling()\n",
    "\n",
    "agent = ActorCriticAgent(actor_critic)\n",
    "env.step(action)\n",
    "agent.update()\n",
    "\n",
    "memory = ReplayBuffer(...)\n",
    "trainer = Trainer(env, agent, memory, ...)\n",
    "\n",
    "trainer.train()"
   ]
  }
 ],
 "metadata": {
  "kernelspec": {
   "display_name": "q-learning",
   "language": "python",
   "name": "python3"
  },
  "language_info": {
   "name": "python",
   "version": "3.8.16"
  },
  "orig_nbformat": 4,
  "vscode": {
   "interpreter": {
    "hash": "1cf68cbc5620f2f37a274bb61f6d37757583ee635f521547df98da585de52630"
   }
  }
 },
 "nbformat": 4,
 "nbformat_minor": 2
}
